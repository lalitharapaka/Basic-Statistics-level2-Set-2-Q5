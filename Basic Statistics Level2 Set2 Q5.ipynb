{
 "cells": [
  {
   "cell_type": "code",
   "execution_count": 9,
   "id": "38fc499e",
   "metadata": {},
   "outputs": [],
   "source": [
    "### 5.\tConsider a company that has two different divisions. The annual profits from the two divisions are independent \n",
    "### and have distributions Profit1 ~ N(5, 3^2) and Profit2 ~ N(7, 4^2)  respectively. Both the profits are in $ Million. \n",
    "### Answer the following questions about the total profit of the company in Rupees. Assume that $1 = Rs. 45\n",
    "\n",
    "### A.\tSpecify a Rupee range (centered on the mean) such that it contains 95% probability for the annual profit of the company.\n",
    "### B.\tSpecify the 5th percentile of profit (in Rupees) for the company\n",
    "### C.\tWhich of the two divisions has a larger probability of making a loss in a given year?\n"
   ]
  },
  {
   "cell_type": "code",
   "execution_count": 5,
   "id": "b3d67324",
   "metadata": {},
   "outputs": [],
   "source": [
    "### importing requitred libraries\n",
    "import numpy as np\n",
    "from scipy import stats\n",
    "from scipy.stats import norm "
   ]
  },
  {
   "cell_type": "code",
   "execution_count": 17,
   "id": "0c8619aa",
   "metadata": {},
   "outputs": [
    {
     "name": "stdout",
     "output_type": "stream",
     "text": [
      "Mean profit is 540 Million Rupees\n"
     ]
    }
   ],
   "source": [
    "### Mean profits from two different divisions of a company will be Mean1 + Mean2\n",
    "\n",
    "### Mean1 = 5 and Mean2 = 7\n",
    "\n",
    "Mean = 5+7\n",
    "print(\"Mean profit is\",Mean * 45, \"Million Rupees\")"
   ]
  },
  {
   "cell_type": "code",
   "execution_count": 16,
   "id": "b7e46e5e",
   "metadata": {},
   "outputs": [
    {
     "name": "stdout",
     "output_type": "stream",
     "text": [
      "Standard deviation is 225.0 Million Rupees\n"
     ]
    }
   ],
   "source": [
    "### Variance of profits from two different divisions of a company = SD^2 + SD^2\n",
    "\n",
    "## SD1 = 3 and SD2 =4\n",
    "\n",
    "SD =np.sqrt((9)+(16))\n",
    "print('Standard deviation is', SD*45, 'Million Rupees')"
   ]
  },
  {
   "cell_type": "code",
   "execution_count": 19,
   "id": "248f0f4e",
   "metadata": {},
   "outputs": [
    {
     "name": "stdout",
     "output_type": "stream",
     "text": [
      "Range is (99.00810347848784, 980.9918965215122) Million Rupees\n"
     ]
    }
   ],
   "source": [
    "### A. Specify a Rupee range (centered on the mean) such that it contains 95% probability for the annual profit of the company.\n",
    "print('Range is',(stats.norm.interval(0.95,540,225)),'Million Rupees')"
   ]
  },
  {
   "cell_type": "code",
   "execution_count": 24,
   "id": "c2394657",
   "metadata": {},
   "outputs": [
    {
     "data": {
      "text/plain": [
       "170.0"
      ]
     },
     "execution_count": 24,
     "metadata": {},
     "output_type": "execute_result"
    }
   ],
   "source": [
    "### B.\tSpecify the 5th percentile of profit (in Rupees) for the company\n",
    "##  To compute 5th percentile, we use the formula X = μ + Zσ; \n",
    "### From z table, 5 percentile = -1.645\n",
    "\n",
    "X = 540 + (-1.645) * 225 \n",
    "np.round(X)"
   ]
  },
  {
   "cell_type": "code",
   "execution_count": 25,
   "id": "a85afc0a",
   "metadata": {},
   "outputs": [],
   "source": [
    "## Hence 5th percentile of profit is 170 million rupees"
   ]
  },
  {
   "cell_type": "code",
   "execution_count": 26,
   "id": "b963cd7d",
   "metadata": {},
   "outputs": [
    {
     "data": {
      "text/plain": [
       "0.0477903522728147"
      ]
     },
     "execution_count": 26,
     "metadata": {},
     "output_type": "execute_result"
    }
   ],
   "source": [
    "### C.\tWhich of the two divisions has a larger probability of making a loss in a given year? \n",
    "\n",
    "# Probability of division 1 making a loss i.e P(x<0)\n",
    "\n",
    "stats.norm.cdf(0,5,3)"
   ]
  },
  {
   "cell_type": "code",
   "execution_count": 27,
   "id": "493c1b86",
   "metadata": {},
   "outputs": [
    {
     "data": {
      "text/plain": [
       "0.040059156863817086"
      ]
     },
     "execution_count": 27,
     "metadata": {},
     "output_type": "execute_result"
    }
   ],
   "source": [
    "# Probability of division 2 making a loss i.e P(x<0)\n",
    "stats.norm.cdf(0,7,4)"
   ]
  },
  {
   "cell_type": "code",
   "execution_count": null,
   "id": "e9e1aa2b",
   "metadata": {},
   "outputs": [],
   "source": [
    "## Hence division 1 has larger probability of making a loss in a given year."
   ]
  }
 ],
 "metadata": {
  "kernelspec": {
   "display_name": "Python 3",
   "language": "python",
   "name": "python3"
  },
  "language_info": {
   "codemirror_mode": {
    "name": "ipython",
    "version": 3
   },
   "file_extension": ".py",
   "mimetype": "text/x-python",
   "name": "python",
   "nbconvert_exporter": "python",
   "pygments_lexer": "ipython3",
   "version": "3.8.8"
  }
 },
 "nbformat": 4,
 "nbformat_minor": 5
}
